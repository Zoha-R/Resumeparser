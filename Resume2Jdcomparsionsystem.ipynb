```python```
{
  "nbformat": 4,
  "nbformat_minor": 0,
  "metadata": {
    "colab": {
      "provenance": [],
      "authorship_tag": "ABX9TyOw3DQvZjpbHF7n7kAoQKDM",
      "include_colab_link": true
    },
    "kernelspec": {
      "name": "python3",
      "display_name": "Python 3"
    },
    "language_info": {
      "name": "python"
    }
  },
  "cells": [
    {
      "cell_type": "markdown",
      "metadata": {
        "id": "view-in-github",
        "colab_type": "text"
      },
      "source": [
        "<a href=\"https://colab.research.google.com/github/Zoha-R/Resumeparser/blob/main/Resume2Jdcomparsionsystem.ipynb\" target=\"_parent\"><img src=\"https://colab.research.google.com/assets/colab-badge.svg\" alt=\"Open In Colab\"/></a>"
      ]
    },
    {
      "cell_type": "code",
      "source": [
        "pip install streamlit"
      ],
      "metadata": {
        "colab": {
          "base_uri": "https://localhost:8080/"
        },
        "collapsed": true,
        "id": "OgxKuWJ_oZRG",
        "outputId": "7c6c715b-160c-45ac-c143-bc334af6e907"
      },
      "execution_count": 1,
      "outputs": [
        {
          "output_type": "stream",
          "name": "stdout",
          "text": [
            "Collecting streamlit\n",
            "  Downloading streamlit-1.35.0-py2.py3-none-any.whl (8.6 MB)\n",
            "\u001b[2K     \u001b[90m━━━━━━━━━━━━━━━━━━━━━━━━━━━━━━━━━━━━━━━━\u001b[0m \u001b[32m8.6/8.6 MB\u001b[0m \u001b[31m51.3 MB/s\u001b[0m eta \u001b[36m0:00:00\u001b[0m\n",
            "\u001b[?25hRequirement already satisfied: altair<6,>=4.0 in /usr/local/lib/python3.10/dist-packages (from streamlit) (4.2.2)\n",
            "Requirement already satisfied: blinker<2,>=1.0.0 in /usr/lib/python3/dist-packages (from streamlit) (1.4)\n",
            "Requirement already satisfied: cachetools<6,>=4.0 in /usr/local/lib/python3.10/dist-packages (from streamlit) (5.3.3)\n",
            "Requirement already satisfied: click<9,>=7.0 in /usr/local/lib/python3.10/dist-packages (from streamlit) (8.1.7)\n",
            "Requirement already satisfied: numpy<2,>=1.19.3 in /usr/local/lib/python3.10/dist-packages (from streamlit) (1.25.2)\n",
            "Requirement already satisfied: packaging<25,>=16.8 in /usr/local/lib/python3.10/dist-packages (from streamlit) (24.0)\n",
            "Requirement already satisfied: pandas<3,>=1.3.0 in /usr/local/lib/python3.10/dist-packages (from streamlit) (2.0.3)\n",
            "Requirement already satisfied: pillow<11,>=7.1.0 in /usr/local/lib/python3.10/dist-packages (from streamlit) (9.4.0)\n",
            "Requirement already satisfied: protobuf<5,>=3.20 in /usr/local/lib/python3.10/dist-packages (from streamlit) (3.20.3)\n",
            "Requirement already satisfied: pyarrow>=7.0 in /usr/local/lib/python3.10/dist-packages (from streamlit) (14.0.2)\n",
            "Requirement already satisfied: requests<3,>=2.27 in /usr/local/lib/python3.10/dist-packages (from streamlit) (2.31.0)\n",
            "Requirement already satisfied: rich<14,>=10.14.0 in /usr/local/lib/python3.10/dist-packages (from streamlit) (13.7.1)\n",
            "Requirement already satisfied: tenacity<9,>=8.1.0 in /usr/local/lib/python3.10/dist-packages (from streamlit) (8.3.0)\n",
            "Requirement already satisfied: toml<2,>=0.10.1 in /usr/local/lib/python3.10/dist-packages (from streamlit) (0.10.2)\n",
            "Requirement already satisfied: typing-extensions<5,>=4.3.0 in /usr/local/lib/python3.10/dist-packages (from streamlit) (4.12.1)\n",
            "Collecting gitpython!=3.1.19,<4,>=3.0.7 (from streamlit)\n",
            "  Downloading GitPython-3.1.43-py3-none-any.whl (207 kB)\n",
            "\u001b[2K     \u001b[90m━━━━━━━━━━━━━━━━━━━━━━━━━━━━━━━━━━━━━━━━\u001b[0m \u001b[32m207.3/207.3 kB\u001b[0m \u001b[31m23.0 MB/s\u001b[0m eta \u001b[36m0:00:00\u001b[0m\n",
            "\u001b[?25hCollecting pydeck<1,>=0.8.0b4 (from streamlit)\n",
            "  Downloading pydeck-0.9.1-py2.py3-none-any.whl (6.9 MB)\n",
            "\u001b[2K     \u001b[90m━━━━━━━━━━━━━━━━━━━━━━━━━━━━━━━━━━━━━━━━\u001b[0m \u001b[32m6.9/6.9 MB\u001b[0m \u001b[31m87.6 MB/s\u001b[0m eta \u001b[36m0:00:00\u001b[0m\n",
            "\u001b[?25hRequirement already satisfied: tornado<7,>=6.0.3 in /usr/local/lib/python3.10/dist-packages (from streamlit) (6.3.3)\n",
            "Collecting watchdog>=2.1.5 (from streamlit)\n",
            "  Downloading watchdog-4.0.1-py3-none-manylinux2014_x86_64.whl (83 kB)\n",
            "\u001b[2K     \u001b[90m━━━━━━━━━━━━━━━━━━━━━━━━━━━━━━━━━━━━━━━━\u001b[0m \u001b[32m83.0/83.0 kB\u001b[0m \u001b[31m10.4 MB/s\u001b[0m eta \u001b[36m0:00:00\u001b[0m\n",
            "\u001b[?25hRequirement already satisfied: entrypoints in /usr/local/lib/python3.10/dist-packages (from altair<6,>=4.0->streamlit) (0.4)\n",
            "Requirement already satisfied: jinja2 in /usr/local/lib/python3.10/dist-packages (from altair<6,>=4.0->streamlit) (3.1.4)\n",
            "Requirement already satisfied: jsonschema>=3.0 in /usr/local/lib/python3.10/dist-packages (from altair<6,>=4.0->streamlit) (4.19.2)\n",
            "Requirement already satisfied: toolz in /usr/local/lib/python3.10/dist-packages (from altair<6,>=4.0->streamlit) (0.12.1)\n",
            "Collecting gitdb<5,>=4.0.1 (from gitpython!=3.1.19,<4,>=3.0.7->streamlit)\n",
            "  Downloading gitdb-4.0.11-py3-none-any.whl (62 kB)\n",
            "\u001b[2K     \u001b[90m━━━━━━━━━━━━━━━━━━━━━━━━━━━━━━━━━━━━━━━━\u001b[0m \u001b[32m62.7/62.7 kB\u001b[0m \u001b[31m7.0 MB/s\u001b[0m eta \u001b[36m0:00:00\u001b[0m\n",
            "\u001b[?25hRequirement already satisfied: python-dateutil>=2.8.2 in /usr/local/lib/python3.10/dist-packages (from pandas<3,>=1.3.0->streamlit) (2.8.2)\n",
            "Requirement already satisfied: pytz>=2020.1 in /usr/local/lib/python3.10/dist-packages (from pandas<3,>=1.3.0->streamlit) (2023.4)\n",
            "Requirement already satisfied: tzdata>=2022.1 in /usr/local/lib/python3.10/dist-packages (from pandas<3,>=1.3.0->streamlit) (2024.1)\n",
            "Requirement already satisfied: charset-normalizer<4,>=2 in /usr/local/lib/python3.10/dist-packages (from requests<3,>=2.27->streamlit) (3.3.2)\n",
            "Requirement already satisfied: idna<4,>=2.5 in /usr/local/lib/python3.10/dist-packages (from requests<3,>=2.27->streamlit) (3.7)\n",
            "Requirement already satisfied: urllib3<3,>=1.21.1 in /usr/local/lib/python3.10/dist-packages (from requests<3,>=2.27->streamlit) (2.0.7)\n",
            "Requirement already satisfied: certifi>=2017.4.17 in /usr/local/lib/python3.10/dist-packages (from requests<3,>=2.27->streamlit) (2024.6.2)\n",
            "Requirement already satisfied: markdown-it-py>=2.2.0 in /usr/local/lib/python3.10/dist-packages (from rich<14,>=10.14.0->streamlit) (3.0.0)\n",
            "Requirement already satisfied: pygments<3.0.0,>=2.13.0 in /usr/local/lib/python3.10/dist-packages (from rich<14,>=10.14.0->streamlit) (2.16.1)\n",
            "Collecting smmap<6,>=3.0.1 (from gitdb<5,>=4.0.1->gitpython!=3.1.19,<4,>=3.0.7->streamlit)\n",
            "  Downloading smmap-5.0.1-py3-none-any.whl (24 kB)\n",
            "Requirement already satisfied: MarkupSafe>=2.0 in /usr/local/lib/python3.10/dist-packages (from jinja2->altair<6,>=4.0->streamlit) (2.1.5)\n",
            "Requirement already satisfied: attrs>=22.2.0 in /usr/local/lib/python3.10/dist-packages (from jsonschema>=3.0->altair<6,>=4.0->streamlit) (23.2.0)\n",
            "Requirement already satisfied: jsonschema-specifications>=2023.03.6 in /usr/local/lib/python3.10/dist-packages (from jsonschema>=3.0->altair<6,>=4.0->streamlit) (2023.12.1)\n",
            "Requirement already satisfied: referencing>=0.28.4 in /usr/local/lib/python3.10/dist-packages (from jsonschema>=3.0->altair<6,>=4.0->streamlit) (0.35.1)\n",
            "Requirement already satisfied: rpds-py>=0.7.1 in /usr/local/lib/python3.10/dist-packages (from jsonschema>=3.0->altair<6,>=4.0->streamlit) (0.18.1)\n",
            "Requirement already satisfied: mdurl~=0.1 in /usr/local/lib/python3.10/dist-packages (from markdown-it-py>=2.2.0->rich<14,>=10.14.0->streamlit) (0.1.2)\n",
            "Requirement already satisfied: six>=1.5 in /usr/local/lib/python3.10/dist-packages (from python-dateutil>=2.8.2->pandas<3,>=1.3.0->streamlit) (1.16.0)\n",
            "Installing collected packages: watchdog, smmap, pydeck, gitdb, gitpython, streamlit\n",
            "Successfully installed gitdb-4.0.11 gitpython-3.1.43 pydeck-0.9.1 smmap-5.0.1 streamlit-1.35.0 watchdog-4.0.1\n"
          ]
        }
      ]
    },
    {
      "cell_type": "code",
      "source": [
        "!pip install PyPDF2 -q"
      ],
      "metadata": {
        "id": "8VYK6_Twoj81"
      },
      "execution_count": 9,
      "outputs": []
    },
    {
      "cell_type": "code",
      "source": [
        "pip install pypdf"
      ],
      "metadata": {
        "colab": {
          "base_uri": "https://localhost:8080/"
        },
        "id": "WqRKQLyfz9Ka",
        "outputId": "241eee3d-14ee-4680-e457-cfab59534ed8"
      },
      "execution_count": 8,
      "outputs": [
        {
          "output_type": "stream",
          "name": "stdout",
          "text": [
            "Requirement already satisfied: pypdf in /usr/local/lib/python3.10/dist-packages (4.2.0)\n",
            "Requirement already satisfied: typing_extensions>=4.0 in /usr/local/lib/python3.10/dist-packages (from pypdf) (4.12.1)\n"
          ]
        }
      ]
    },
    {
      "cell_type": "code",
      "source": [
        "pip install langchain-community langchain-core"
      ],
      "metadata": {
        "colab": {
          "base_uri": "https://localhost:8080/"
        },
        "id": "9oGus5OLzQFa",
        "outputId": "c7097419-d6e8-48fe-a31e-13e9d3e89af1"
      },
      "execution_count": 7,
      "outputs": [
        {
          "output_type": "stream",
          "name": "stdout",
          "text": [
            "Requirement already satisfied: langchain-community in /usr/local/lib/python3.10/dist-packages (0.2.3)\n",
            "Requirement already satisfied: langchain-core in /usr/local/lib/python3.10/dist-packages (0.2.4)\n",
            "Requirement already satisfied: PyYAML>=5.3 in /usr/local/lib/python3.10/dist-packages (from langchain-community) (6.0.1)\n",
            "Requirement already satisfied: SQLAlchemy<3,>=1.4 in /usr/local/lib/python3.10/dist-packages (from langchain-community) (2.0.30)\n",
            "Requirement already satisfied: aiohttp<4.0.0,>=3.8.3 in /usr/local/lib/python3.10/dist-packages (from langchain-community) (3.9.5)\n",
            "Requirement already satisfied: dataclasses-json<0.7,>=0.5.7 in /usr/local/lib/python3.10/dist-packages (from langchain-community) (0.6.6)\n",
            "Requirement already satisfied: langchain<0.3.0,>=0.2.0 in /usr/local/lib/python3.10/dist-packages (from langchain-community) (0.2.2)\n",
            "Requirement already satisfied: langsmith<0.2.0,>=0.1.0 in /usr/local/lib/python3.10/dist-packages (from langchain-community) (0.1.74)\n",
            "Requirement already satisfied: numpy<2,>=1 in /usr/local/lib/python3.10/dist-packages (from langchain-community) (1.25.2)\n",
            "Requirement already satisfied: requests<3,>=2 in /usr/local/lib/python3.10/dist-packages (from langchain-community) (2.31.0)\n",
            "Requirement already satisfied: tenacity<9.0.0,>=8.1.0 in /usr/local/lib/python3.10/dist-packages (from langchain-community) (8.3.0)\n",
            "Requirement already satisfied: jsonpatch<2.0,>=1.33 in /usr/local/lib/python3.10/dist-packages (from langchain-core) (1.33)\n",
            "Requirement already satisfied: packaging<24.0,>=23.2 in /usr/local/lib/python3.10/dist-packages (from langchain-core) (23.2)\n",
            "Requirement already satisfied: pydantic<3,>=1 in /usr/local/lib/python3.10/dist-packages (from langchain-core) (2.7.3)\n",
            "Requirement already satisfied: aiosignal>=1.1.2 in /usr/local/lib/python3.10/dist-packages (from aiohttp<4.0.0,>=3.8.3->langchain-community) (1.3.1)\n",
            "Requirement already satisfied: attrs>=17.3.0 in /usr/local/lib/python3.10/dist-packages (from aiohttp<4.0.0,>=3.8.3->langchain-community) (23.2.0)\n",
            "Requirement already satisfied: frozenlist>=1.1.1 in /usr/local/lib/python3.10/dist-packages (from aiohttp<4.0.0,>=3.8.3->langchain-community) (1.4.1)\n",
            "Requirement already satisfied: multidict<7.0,>=4.5 in /usr/local/lib/python3.10/dist-packages (from aiohttp<4.0.0,>=3.8.3->langchain-community) (6.0.5)\n",
            "Requirement already satisfied: yarl<2.0,>=1.0 in /usr/local/lib/python3.10/dist-packages (from aiohttp<4.0.0,>=3.8.3->langchain-community) (1.9.4)\n",
            "Requirement already satisfied: async-timeout<5.0,>=4.0 in /usr/local/lib/python3.10/dist-packages (from aiohttp<4.0.0,>=3.8.3->langchain-community) (4.0.3)\n",
            "Requirement already satisfied: marshmallow<4.0.0,>=3.18.0 in /usr/local/lib/python3.10/dist-packages (from dataclasses-json<0.7,>=0.5.7->langchain-community) (3.21.3)\n",
            "Requirement already satisfied: typing-inspect<1,>=0.4.0 in /usr/local/lib/python3.10/dist-packages (from dataclasses-json<0.7,>=0.5.7->langchain-community) (0.9.0)\n",
            "Requirement already satisfied: jsonpointer>=1.9 in /usr/local/lib/python3.10/dist-packages (from jsonpatch<2.0,>=1.33->langchain-core) (2.4)\n",
            "Requirement already satisfied: langchain-text-splitters<0.3.0,>=0.2.0 in /usr/local/lib/python3.10/dist-packages (from langchain<0.3.0,>=0.2.0->langchain-community) (0.2.1)\n",
            "Requirement already satisfied: orjson<4.0.0,>=3.9.14 in /usr/local/lib/python3.10/dist-packages (from langsmith<0.2.0,>=0.1.0->langchain-community) (3.10.3)\n",
            "Requirement already satisfied: annotated-types>=0.4.0 in /usr/local/lib/python3.10/dist-packages (from pydantic<3,>=1->langchain-core) (0.7.0)\n",
            "Requirement already satisfied: pydantic-core==2.18.4 in /usr/local/lib/python3.10/dist-packages (from pydantic<3,>=1->langchain-core) (2.18.4)\n",
            "Requirement already satisfied: typing-extensions>=4.6.1 in /usr/local/lib/python3.10/dist-packages (from pydantic<3,>=1->langchain-core) (4.12.1)\n",
            "Requirement already satisfied: charset-normalizer<4,>=2 in /usr/local/lib/python3.10/dist-packages (from requests<3,>=2->langchain-community) (3.3.2)\n",
            "Requirement already satisfied: idna<4,>=2.5 in /usr/local/lib/python3.10/dist-packages (from requests<3,>=2->langchain-community) (3.7)\n",
            "Requirement already satisfied: urllib3<3,>=1.21.1 in /usr/local/lib/python3.10/dist-packages (from requests<3,>=2->langchain-community) (2.0.7)\n",
            "Requirement already satisfied: certifi>=2017.4.17 in /usr/local/lib/python3.10/dist-packages (from requests<3,>=2->langchain-community) (2024.6.2)\n",
            "Requirement already satisfied: greenlet!=0.4.17 in /usr/local/lib/python3.10/dist-packages (from SQLAlchemy<3,>=1.4->langchain-community) (3.0.3)\n",
            "Requirement already satisfied: mypy-extensions>=0.3.0 in /usr/local/lib/python3.10/dist-packages (from typing-inspect<1,>=0.4.0->dataclasses-json<0.7,>=0.5.7->langchain-community) (1.0.0)\n"
          ]
        }
      ]
    },
    {
      "cell_type": "code",
      "source": [
        "pip install -q -U google-generativeai"
      ],
      "metadata": {
        "colab": {
          "base_uri": "https://localhost:8080/"
        },
        "id": "5jUL2whJokCE",
        "outputId": "7feec3fa-46d7-44a5-f6e2-66a5a2099fa0"
      },
      "execution_count": 5,
      "outputs": [
        {
          "output_type": "stream",
          "name": "stdout",
          "text": [
            "\u001b[?25l     \u001b[90m━━━━━━━━━━━━━━━━━━━━━━━━━━━━━━━━━━━━━━━━\u001b[0m \u001b[32m0.0/158.8 kB\u001b[0m \u001b[31m?\u001b[0m eta \u001b[36m-:--:--\u001b[0m\r\u001b[2K     \u001b[91m━━━━━━━━━━━━━━━━━━━━━━━━━━━━━━━━━━━━━━\u001b[0m\u001b[91m╸\u001b[0m\u001b[90m━\u001b[0m \u001b[32m153.6/158.8 kB\u001b[0m \u001b[31m5.4 MB/s\u001b[0m eta \u001b[36m0:00:01\u001b[0m\r\u001b[2K     \u001b[90m━━━━━━━━━━━━━━━━━━━━━━━━━━━━━━━━━━━━━━━━\u001b[0m \u001b[32m158.8/158.8 kB\u001b[0m \u001b[31m4.1 MB/s\u001b[0m eta \u001b[36m0:00:00\u001b[0m\n",
            "\u001b[?25h"
          ]
        }
      ]
    },
    {
      "cell_type": "code",
      "source": [
        "pip install --upgrade langchain"
      ],
      "metadata": {
        "colab": {
          "base_uri": "https://localhost:8080/"
        },
        "id": "8C0jkSZ1zWSq",
        "outputId": "1a4eaca0-2e7a-449b-9716-16de0184f636"
      },
      "execution_count": 6,
      "outputs": [
        {
          "output_type": "stream",
          "name": "stdout",
          "text": [
            "Requirement already satisfied: langchain in /usr/local/lib/python3.10/dist-packages (0.2.2)\n",
            "Requirement already satisfied: PyYAML>=5.3 in /usr/local/lib/python3.10/dist-packages (from langchain) (6.0.1)\n",
            "Requirement already satisfied: SQLAlchemy<3,>=1.4 in /usr/local/lib/python3.10/dist-packages (from langchain) (2.0.30)\n",
            "Requirement already satisfied: aiohttp<4.0.0,>=3.8.3 in /usr/local/lib/python3.10/dist-packages (from langchain) (3.9.5)\n",
            "Requirement already satisfied: async-timeout<5.0.0,>=4.0.0 in /usr/local/lib/python3.10/dist-packages (from langchain) (4.0.3)\n",
            "Requirement already satisfied: langchain-core<0.3.0,>=0.2.0 in /usr/local/lib/python3.10/dist-packages (from langchain) (0.2.4)\n",
            "Requirement already satisfied: langchain-text-splitters<0.3.0,>=0.2.0 in /usr/local/lib/python3.10/dist-packages (from langchain) (0.2.1)\n",
            "Requirement already satisfied: langsmith<0.2.0,>=0.1.17 in /usr/local/lib/python3.10/dist-packages (from langchain) (0.1.74)\n",
            "Requirement already satisfied: numpy<2,>=1 in /usr/local/lib/python3.10/dist-packages (from langchain) (1.25.2)\n",
            "Requirement already satisfied: pydantic<3,>=1 in /usr/local/lib/python3.10/dist-packages (from langchain) (2.7.3)\n",
            "Requirement already satisfied: requests<3,>=2 in /usr/local/lib/python3.10/dist-packages (from langchain) (2.31.0)\n",
            "Requirement already satisfied: tenacity<9.0.0,>=8.1.0 in /usr/local/lib/python3.10/dist-packages (from langchain) (8.3.0)\n",
            "Requirement already satisfied: aiosignal>=1.1.2 in /usr/local/lib/python3.10/dist-packages (from aiohttp<4.0.0,>=3.8.3->langchain) (1.3.1)\n",
            "Requirement already satisfied: attrs>=17.3.0 in /usr/local/lib/python3.10/dist-packages (from aiohttp<4.0.0,>=3.8.3->langchain) (23.2.0)\n",
            "Requirement already satisfied: frozenlist>=1.1.1 in /usr/local/lib/python3.10/dist-packages (from aiohttp<4.0.0,>=3.8.3->langchain) (1.4.1)\n",
            "Requirement already satisfied: multidict<7.0,>=4.5 in /usr/local/lib/python3.10/dist-packages (from aiohttp<4.0.0,>=3.8.3->langchain) (6.0.5)\n",
            "Requirement already satisfied: yarl<2.0,>=1.0 in /usr/local/lib/python3.10/dist-packages (from aiohttp<4.0.0,>=3.8.3->langchain) (1.9.4)\n",
            "Requirement already satisfied: jsonpatch<2.0,>=1.33 in /usr/local/lib/python3.10/dist-packages (from langchain-core<0.3.0,>=0.2.0->langchain) (1.33)\n",
            "Requirement already satisfied: packaging<24.0,>=23.2 in /usr/local/lib/python3.10/dist-packages (from langchain-core<0.3.0,>=0.2.0->langchain) (23.2)\n",
            "Requirement already satisfied: orjson<4.0.0,>=3.9.14 in /usr/local/lib/python3.10/dist-packages (from langsmith<0.2.0,>=0.1.17->langchain) (3.10.3)\n",
            "Requirement already satisfied: annotated-types>=0.4.0 in /usr/local/lib/python3.10/dist-packages (from pydantic<3,>=1->langchain) (0.7.0)\n",
            "Requirement already satisfied: pydantic-core==2.18.4 in /usr/local/lib/python3.10/dist-packages (from pydantic<3,>=1->langchain) (2.18.4)\n",
            "Requirement already satisfied: typing-extensions>=4.6.1 in /usr/local/lib/python3.10/dist-packages (from pydantic<3,>=1->langchain) (4.12.1)\n",
            "Requirement already satisfied: charset-normalizer<4,>=2 in /usr/local/lib/python3.10/dist-packages (from requests<3,>=2->langchain) (3.3.2)\n",
            "Requirement already satisfied: idna<4,>=2.5 in /usr/local/lib/python3.10/dist-packages (from requests<3,>=2->langchain) (3.7)\n",
            "Requirement already satisfied: urllib3<3,>=1.21.1 in /usr/local/lib/python3.10/dist-packages (from requests<3,>=2->langchain) (2.0.7)\n",
            "Requirement already satisfied: certifi>=2017.4.17 in /usr/local/lib/python3.10/dist-packages (from requests<3,>=2->langchain) (2024.6.2)\n",
            "Requirement already satisfied: greenlet!=0.4.17 in /usr/local/lib/python3.10/dist-packages (from SQLAlchemy<3,>=1.4->langchain) (3.0.3)\n",
            "Requirement already satisfied: jsonpointer>=1.9 in /usr/local/lib/python3.10/dist-packages (from jsonpatch<2.0,>=1.33->langchain-core<0.3.0,>=0.2.0->langchain) (2.4)\n"
          ]
        }
      ]
    },
    {
      "cell_type": "code",
      "source": [
        "pip install python-dotenv"
      ],
      "metadata": {
        "colab": {
          "base_uri": "https://localhost:8080/"
        },
        "id": "ETo4vYquokFb",
        "outputId": "aad72d2f-3342-4425-c95b-35586ab013af"
      },
      "execution_count": 5,
      "outputs": [
        {
          "output_type": "stream",
          "name": "stdout",
          "text": [
            "Collecting python-dotenv\n",
            "  Downloading python_dotenv-1.0.1-py3-none-any.whl (19 kB)\n",
            "Installing collected packages: python-dotenv\n",
            "Successfully installed python-dotenv-1.0.1\n"
          ]
        }
      ]
    },
    {
      "cell_type": "code",
      "source": [
        "import streamlit as st\n",
        "import google.generativeai as genai\n",
        "import os\n",
        "import PyPDF2 as pdf\n",
        "# from dotenv import load_dotenv\n",
        "# load_dotenv()\n"
      ],
      "metadata": {
        "id": "m0_OZ1HiokSu"
      },
      "execution_count": 10,
      "outputs": []
    },
    {
      "cell_type": "code",
      "source": [
        "api_key = '+++++++++++++++++++++++'\n",
        "genai.configure(api_key=api_key)"
      ],
      "metadata": {
        "id": "lawzLA89uUDn"
      },
      "execution_count": 11,
      "outputs": []
    },
    {
      "cell_type": "code",
      "source": [
        "#gemini function\n",
        "\n",
        "def get_gemini_response(input):\n",
        "    model=genai.GenerativeModel('gemini-pro')\n",
        "    response = model.generate_content(input)\n",
        "    return response.text\n",
        "\n",
        "# #convert pdf to text\n",
        "# def input_pdf_text(uploaded_file):\n",
        "#     reader=pdf.PdfReader(uploaded_file)\n",
        "#     text=\"\"\n",
        "#     for page in range(len(reader.pages)):\n",
        "#         page=reader.pages[page]\n",
        "#         text+=str(page.extract_text())\n",
        "#     return text\n",
        "\n"
      ],
      "metadata": {
        "id": "u0Q9L2unuIXc"
      },
      "execution_count": 12,
      "outputs": []
    },
    {
      "cell_type": "code",
      "source": [
        "# Step 3: Define the input_pdf_text function to process text from PyPDFLoader pages\n",
        "from langchain_community.document_loaders import PyPDFLoader\n",
        "import PyPDF2\n",
        "\n",
        "def input_pdf_text(pages):\n",
        "    text = \"\"\n",
        "    for page in pages:\n",
        "        text += page.page_content\n",
        "    return text\n",
        "\n",
        "# Step 4: Load and split the PDF file using PyPDFLoader\n",
        "file_path =\"/content/Ali Zulqarnain.pdf\"\n",
        "loader = PyPDFLoader(file_path)\n",
        "pages = loader.load_and_split()\n",
        "\n",
        "# Step 5: Pass the pages to the input_pdf_text function to extract text\n",
        "text = input_pdf_text(pages)\n",
        "\n",
        "# Optional: Print the extracted text for verification\n",
        "print(text)\n",
        "\n"
      ],
      "metadata": {
        "colab": {
          "base_uri": "https://localhost:8080/"
        },
        "id": "3y92sMSqylIx",
        "outputId": "3a9bbbfa-3dbf-4875-b5e2-ddb325947b65"
      },
      "execution_count": 14,
      "outputs": [
        {
          "output_type": "stream",
          "name": "stdout",
          "text": [
            "ALI ZULQARNAIN  \n",
            "Chartered Accountant  (CA Finalist ), PIPFA  \n",
            "Qualified, B.COM  \n",
            "Contact:  +971  56 707 9520  \n",
            "Email: zulqarnain.ca110@gmail.com  \n",
            "Address:  Dubai, United Arab Emirates  \n",
            " \n",
            " \n",
            "  \n",
            " \n",
            "BRIEF PROFILE : \n",
            " \n",
            "Certif icate in Accounting & Finance from Institute of Chartered Accountants of Pakistan (ICAP),PIPFA Qualified \n",
            "from Pakistan Institute of Public Finance Accountants and  Bachelor in Commerce (B.COM) from  University of \n",
            "the Punjab with 6 years’ experience  (Including 2 years UA E experience)  having a strong back ground in major \n",
            "areas of accounting and finance including Internal and Statutory audit, financial planning and control, \n",
            "Inventory and warehouse management,  reconciliations,  assets management and book  keeping assignments.  \n",
            " \n",
            "AREAS OF EXP ERTISE : \n",
            " \n",
            " Finance and Accounts  \n",
            " Preparation of Financial Statements in accordance with IFRS  \n",
            " Costing of products  \n",
            " Audit & Assurance (statutory, internal & special)  \n",
            " Development and implementation of internal Controls  \n",
            " Preparation of Bank Reconciliation Statement  and other reconciliations  \n",
            " Inventory, Account  Payables , Account Recei vables , Sales, Payroll  \n",
            " Ability to lead from the front and manage team affairs  \n",
            " \n",
            "PROFESSIONAL WORK EXPERIENCE:  \n",
            "           \n",
            "Organization:    TAG Management Consulting (UAE)  \n",
            "Client :    Nakheel PJSC  \n",
            "Designation :   Accountant  \n",
            "Tenure :    September  01, 2022 – till date   \n",
            " \n",
            "During my professional tenure  with Tag Management Consulting (TMC) , I have been managing different \n",
            "assignments at various clients to offer accounting and consultancy engagements. These assignments provided \n",
            "me opportunity to familiarize myself with ERPs and various a ccounting software.  My job responsibilities  at \n",
            "NAKHEEL PJSC  include the following:  \n",
            " Management of Noqodi Wallets . \n",
            " Reconciliation of Noqodi Statement with Oracle and other merchant reports (ERES report, EJARI  \n",
            "report  and GDRFA  report  etc.) . \n",
            " Vendor and Authority invoice  (DEWA, RTA etc.)  processing of M eydan Group L.L.C  & District On e. \n",
            " Prepare Vendor reconciliation s. \n",
            " Prepare  bank reconciliation  statem ents . \n",
            " Processing of Brokers’ commission  (Meydan Group L.L.C) . \n",
            " Creation of Beneficiary and process  payment requests on TAS Portal  \n",
            " Various ad -hoc assignments  \n",
            " \n",
            "Organization:  Javed & Co. Chartered Accountants     \n",
            "(QCR Rated CA firm in Pakistan ) \n",
            "Tenure:   August 01, 2018 – July 31, 2022  \n",
            "Designation:  Audit and Tax AssociateI have 4 years working experience as Audit and Tax Associate with  Javed & Co.  Chartered Accountants . During \n",
            "my tenure,  I have been assigned various responsibilities  regarding Account ing and Finance, Auditing and \n",
            "Taxation . I have performed  external audits, reviews, fixed assets management, internal control design, \n",
            "performance of agreed upon procedures , prepared Financial Statements in accordance with IFRS and filed \n",
            "Income Tax Returns Unde r Income Tax Ordinance, 2001 on the below mentioned clients.  \n",
            " \n",
            "FMCG Sector:  \n",
            " A.Rahim Foods (Pvt.) Limited  (Dawn Bread)  \n",
            " Dawn Frozen Foods  Company (Pvt.) Limited  \n",
            "Hospitality Sector:  \n",
            " Rina’ s Kitchenette (Pvt.) Limited  \n",
            " DAN DAN (Pvt.) Limited  \n",
            "Textile and Paper Sector:  \n",
            " Soxlinks (Pvt.) Limited  \n",
            " Malik Board Paper Industries (Pvt.) Limited  \n",
            "Real Estate  Sector:  \n",
            " Suffa Valley (Housing Society in Pakistan)  \n",
            "Entertainment Sector:  \n",
            " Sozo Water Park (Pvt.) Limited  \n",
            " Zodash (Pvt.) Limited  \n",
            "Non Profit Organization (NPO):  \n",
            " Aatfat  Trust  \n",
            " Gohar Akhtar Ahsan Charitable Trust  \n",
            " Ch. Nasrullah Family Trust  \n",
            "Key Responsibilities at above respective Clients stated and assignments are listed here under;     \n",
            " \n",
            " Preliminary planning and development of detailed audit plan for financial audits of various \n",
            "manufacturing and service entities.  \n",
            " Time budgeting, mobilization of engagement team, preliminary risk assessment and review of \n",
            "accounting and internal control systems.  \n",
            " Development of an independent expectation of company's financial performance and  comparison \n",
            "with the company's actual results with investigation and explanation of variances.  \n",
            " Analytical analysis of financial statements, comparison of actual financial performance with \n",
            "industry, budgets and prior years and investigation and explanation of variances.  \n",
            " Management, supervision,  and coordination of audit (Internal & Statutory) work being  performed \n",
            "by the  audit  teams.  \n",
            " Ensuring  compliance  with  applicable  statutory  legislatures  and International  Financial  Reporting  \n",
            "Standards  (IFRS).  \n",
            " Review,  anal ysis and conclusion  of work  performed.  \n",
            " \n",
            "EDUCATION AL BACKGROUND : \n",
            " \n",
            "CERTIFICATION /DEGREE  INSTITUTION/UNIVERSITY  YEAR  \n",
            "Certificat e in Accounting & \n",
            "Finance  Institute of Chartered Accountants of Pakistan \n",
            "(ICAP)  2020  \n",
            "PIPFA  Qualified  Pakistan Institute of Public Finance Accountants  2020  \n",
            "Bachelor i n Commerce  (B.COM)  University of the Punjab, Pakistan  2017ADDITIONAL SKILLS : \n",
            " \n",
            "o Oracle  \n",
            "o Tally Prime  \n",
            "o MS Excel     \n",
            "o MS Word  \n",
            "o MS Power Point     \n",
            "TRAININGS & WORKSHOPS:  \n",
            " \n",
            " Presentation & Communication Skills Course (PCSC)  \n",
            " Computer Competency Practical Training (CCPT)  \n",
            " Professional Values, Ethics and Attitudes Course (PVEA)  \n",
            " \n",
            "PERSONAL INFORMATION:  \n",
            " \n",
            "Father’s Name   Khalid Mehmood  \n",
            "Date of Birth   December 14, 1992  \n",
            "Visa Status   Employment visa  \n",
            "Marital Status   Single  \n",
            "Nationality   Pakistani\n"
          ]
        }
      ]
    },
    {
      "cell_type": "code",
      "source": [
        "jd=\"\"\"Job Summary:\n",
        "\n",
        "    Design, develop, and deploy machine learning models\n",
        "    Improve product performance with ML solutions\n",
        "\n",
        "Key Responsibilities:\n",
        "\n",
        "    Develop and optimize ML models\n",
        "    Collaborate with teams to understand business needs\n",
        "    Preprocess and analyze large datasets\n",
        "    Build data pipelines for ML models\n",
        "    Conduct experiments and evaluate models\n",
        "    Stay updated with ML research and advancements\n",
        "    Present findings to stakeholders\n",
        "    Improve model accuracy through iteration\n",
        "\n",
        "Qualifications:\n",
        "\n",
        "    Degree in Computer Science, Data Science, Statistics, or related field\n",
        "    Experience as a Machine Learning Engineer or similar role\n",
        "    Proficiency in Python, R, or similar languages\n",
        "    Experience with ML frameworks (TensorFlow, PyTorch, scikit-learn)\n",
        "    Knowledge of data preprocessing, feature engineering, and model evaluation\n",
        "    Familiarity with big data technologies (Hadoop, Spark)\n",
        "    Understanding of software engineering best practices\n",
        "    Strong problem-solving and communication skills\n",
        "\n",
        "Preferred Qualifications:\n",
        "\n",
        "    Experience with cloud platforms (AWS, GCP, Azure)\n",
        "    Knowledge of deep learning, NLP, and computer vision\n",
        "    Experience in deploying ML models in production\n",
        "    Understanding of DevOps practices and CI/CD pipelines\"\"\""
      ],
      "metadata": {
        "id": "1MoTLdjE-yzA"
      },
      "execution_count": 16,
      "outputs": []
    },
    {
      "cell_type": "code",
      "source": [
        "# input_prompt = f\"\"\"\n",
        "# Consider yourself a resume parser and please extract the name, email, and education of the person. Provide extracted information in JSON format.\n",
        "\n",
        "# Resume:\n",
        "# {text}\n",
        "# \"\"\""
      ],
      "metadata": {
        "id": "9iyMEk5q6oAu"
      },
      "execution_count": 33,
      "outputs": []
    },
    {
      "cell_type": "code",
      "source": [
        "input_prompt =\"\"\"\n",
        "\n",
        "### As a skilled Application Tracking System (ATS) with advanced knowledge in technology and data science, your role is to meticulously evaluate a candidate's resume based on the provided job description.\n",
        "\n",
        "### Your evaluation will involve analyzing the resume for relevant skills, experiences, and qualifications that align with the job requirements. Look for key buzzwords and specific criteria outlined in the job description to determine the candidate's suitability for the position.\n",
        "\n",
        "### Provide a detailed assessment of how well the resume matches the job requirements, highlighting strengths, weaknesses, and any potential areas of concern. Offer constructive feedback on how the candidate can enhance their resume to better align with the job description and improve their chances of securing the position.\n",
        "\n",
        "### Your evaluation should be thorough, precise, and objective, ensuring that the most qualified candidates are accurately identified based on their resume content in relation to the job criteria.\n",
        "\n",
        "### Remember to utilize your expertise in technology and data science to conduct a comprehensive evaluation that optimizes the recruitment process for the hiring company. Your insights will play a crucial role in determining the candidate's compatibility with the job role.\n",
        "resume={text}\n",
        "jd={jd}\n",
        "### Evaluation Output:\n",
        "1. Calculate the percentage of match between the resume and the job description. Give a number and some explation\n",
        "2. Identify any key keywords that are missing from the resume in comparison to the job description.\n",
        "3. Offer specific and actionable tips to enhance the resume and improve its alignment with the job requirements.\n",
        "\"\"\"\n"
      ],
      "metadata": {
        "id": "kxLs-A2WuIZ5"
      },
      "execution_count": 18,
      "outputs": []
    },
    {
      "cell_type": "code",
      "source": [
        "# input_prompt=\"\"\"\n",
        "# Hey Act Like a skilled or very experience ATS(Application Tracking System)\n",
        "# with a deep understanding of tech field,software engineering,data science ,data analyst\n",
        "# and big data engineer. Your task is to evaluate the resume based on the given job description.\n",
        "# You must consider the job market is very competitive and you should provide\n",
        "# best assistance for improving thr resumes. Assign the percentage Matching based\n",
        "# on Jd and\n",
        "# the missing keywords with high accuracy\n",
        "# resume:{text}\n",
        "# description:{jd}\n",
        "\n",
        "\n",
        "# I want the response as per below structure\n",
        "# {{\"JD Match\": \"%\",\n",
        "# \"MissingKeywords\": [],\n",
        "# \"Profile Summary\": \"\"}}\n",
        "# \"\"\""
      ],
      "metadata": {
        "id": "70roVpmx5KmO"
      },
      "execution_count": 15,
      "outputs": []
    },
    {
      "cell_type": "code",
      "source": [
        "response = get_gemini_response(input_prompt)\n",
        "\n",
        "# Step 9: Print the response\n",
        "print(response)"
      ],
      "metadata": {
        "colab": {
          "base_uri": "https://localhost:8080/",
          "height": 430
        },
        "id": "a6C4OeiQuIeS",
        "outputId": "a52d7b21-45ff-4427-9548-f34419b5c604"
      },
      "execution_count": 19,
      "outputs": [
        {
          "output_type": "stream",
          "name": "stdout",
          "text": [
            "**1. Percentage of Match between the Resume and Job Description:**\n",
            "\n",
            "Based on an analysis of the provided resume and job description, the percentage of match is approximately **75%**. The resume showcases a strong alignment with the job requirements, demonstrating proficiency in key skills and experiences sought by the hiring manager. The candidate's background in data science, machine learning, and software development aligns well with the technical requirements of the role.\n",
            "\n",
            "**2. Missing Key Keywords:**\n",
            "\n",
            "Upon comparing the resume with the job description, the following key keywords were identified as missing:\n",
            "\n",
            "* Natural Language Processing (NLP)\n",
            "* Data Visualization (specific mention of tools such as Tableau or Power BI)\n",
            "\n",
            "Including these keywords in the resume would further enhance its relevance to the job description and highlight the candidate's expertise in these areas.\n",
            "\n",
            "**3. Specific and Actionable Tips to Enhance the Resume:**\n",
            "\n",
            "To further strengthen the resume's alignment with the job requirements, the following tips are recommended:\n",
            "\n",
            "* Quantify accomplishments and provide specific examples to demonstrate the impact of your work.\n",
            "* Highlight NLP and data visualization skills, showcasing your proficiency in these areas.\n",
            "* Include a dedicated section for technical skills, listing specific technologies and programming languages you are familiar with.\n",
            "* Tailor the resume to each job application, customizing it to match the specific requirements of the role.\n",
            "* Consider seeking professional resume writing assistance to optimize the resume's content, structure, and presentation.\n"
          ]
        }
      ]
    },
    {
      "cell_type": "code",
      "source": [],
      "metadata": {
        "id": "jJmI7bAGuIf0"
      },
      "execution_count": null,
      "outputs": []
    },
    {
      "cell_type": "code",
      "source": [],
      "metadata": {
        "id": "9KUSI-y469Yn"
      },
      "execution_count": null,
      "outputs": []
    },
    {
      "cell_type": "code",
      "source": [],
      "metadata": {
        "id": "S3mQ0PBP69bi"
      },
      "execution_count": null,
      "outputs": []
    },
    {
      "cell_type": "code",
      "source": [],
      "metadata": {
        "id": "ynGY_Ott69d8"
      },
      "execution_count": null,
      "outputs": []
    },
    {
      "cell_type": "code",
      "source": [],
      "metadata": {
        "id": "2BZmghPC69gD"
      },
      "execution_count": null,
      "outputs": []
    }
  ]
}
